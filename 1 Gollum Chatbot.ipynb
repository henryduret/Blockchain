{
 "cells": [
  {
   "cell_type": "code",
   "execution_count": null,
   "metadata": {},
   "outputs": [],
   "source": [
    "nltk.download()"
   ]
  },
  {
   "cell_type": "code",
   "execution_count": null,
   "metadata": {},
   "outputs": [],
   "source": [
    "# nltk = Natural Langage Toolkit, see explanatory document for further development\n",
    "import nltk \n",
    "import numpy as np\n",
    "import random\n",
    "# The import below enables to process standard python strings\n",
    "import string "
   ]
  },
  {
   "cell_type": "code",
   "execution_count": null,
   "metadata": {},
   "outputs": [],
   "source": [
    "# Path below is relative, to be able to chat with the both it's required to have the \"lordofthering\" text file in the same folder than Anaconda3\n",
    "f=open('/Users/Henry/lordofthering.txt','r',errors = 'ignore') \n",
    "raw=f.read()\n",
    "# Function below converts to lowercase\n",
    "raw=raw.lower()\n",
    "# Function below converts to list of sentences \n",
    "sent_precious = nltk.sent_tokenize(raw)\n",
    "# Function below converts to list of words\n",
    "word_precious = nltk.word_tokenize(raw)"
   ]
  },
  {
   "cell_type": "code",
   "execution_count": null,
   "metadata": {},
   "outputs": [],
   "source": [
    "#We use WordNet, an English dictionary included in NLTK\n",
    "ring = nltk.stem.WordNetLemmatizer() \n",
    "\n",
    "# We need a function that lemmatize words of a sentence so that each one can be analyzed as a single item\n",
    "def RingPrecious(swords):\n",
    "    return [ring.lemmatize(sword) for sword in swords]\n",
    "\n",
    "# We remove all the punts included in the text so that we are able to work with it\n",
    "remove_dot_ring = dict((ord(dot), None) for dot in string.punctuation)\n",
    "\n",
    "# We define the function that tokenize inputs, i.e. that creates a sequence of tokens\n",
    "def RingNormalize(arrow):\n",
    "    return RingPrecious(nltk.word_tokenize(arrow.lower().translate(remove_dot_ring)))"
   ]
  },
  {
   "cell_type": "code",
   "execution_count": null,
   "metadata": {},
   "outputs": [],
   "source": [
    "# We want our chatbot to be able to greet the user\n",
    "\n",
    "# List below is all possible inputs that the chatbot will recognize\n",
    "start_inputs = (\"hello\", \"hey\",\"hi\",\"greetings\",\"good morning\", \"good afternoon\",\"good evening\")\n",
    "# List below is all possible outputs that the chatbot will be able to return\n",
    "start_outputs = [\"the Master is talking to me? I'm so glad\", \"Precious, ask us questions\",\"GOLLUM GOLLUM GOLLUM\",\"Where is the precious ?\"]\n",
    "\n",
    "# Function below check if the user input is a known greeting, if yes it randomly returns a greeting from our predefined list\n",
    "def gollumanswer(inputs): \n",
    "    for word in inputs.split():\n",
    "        if word.lower() in start_inputs:\n",
    "            return random.choice(start_outputs)"
   ]
  },
  {
   "cell_type": "code",
   "execution_count": null,
   "metadata": {},
   "outputs": [],
   "source": [
    "# We want our chatbot to be able to identify if the user is asking a question\n",
    "\n",
    "def last(master_input):\n",
    "    splint_ring=[]\n",
    "    Frodo=[]\n",
    "    # We split all words of the user input in a list\n",
    "    splint_ring=master_input.split()\n",
    "    # We use the last item of the previously defined list. Later on, we will check if it's '?'. If yes, it means the user is asking a question.\n",
    "    Frodo= splint_ring[len(splint_ring)-1]\n",
    "    return (Frodo)"
   ]
  },
  {
   "cell_type": "code",
   "execution_count": null,
   "metadata": {},
   "outputs": [],
   "source": [
    "# The list below will be used in case we identify that the user input is a question\n",
    "gollumpanic =[\"The Master is tough\", \"Master should be resting, Master needs to keep up his strength\", \"Stop asking questions you fat Hobbit\"]"
   ]
  },
  {
   "cell_type": "code",
   "execution_count": null,
   "metadata": {},
   "outputs": [],
   "source": [
    "# We import a class that enables to get words that are distinctive and create a matrix\n",
    "from sklearn.feature_extraction.text import TfidfVectorizer"
   ]
  },
  {
   "cell_type": "code",
   "execution_count": null,
   "metadata": {},
   "outputs": [],
   "source": [
    "# We import a class that enables to measure similarity between two vectors\n",
    "from sklearn.metrics.pairwise import cosine_similarity"
   ]
  },
  {
   "cell_type": "code",
   "execution_count": null,
   "metadata": {},
   "outputs": [],
   "source": [
    "# Function below identifies what the user is asking for and return the appropriate part\n",
    "\n",
    "def questofthering(master_input):\n",
    "    gollum_output=''\n",
    "    sent_precious.append(master_input)\n",
    "    TfidfVec = TfidfVectorizer(tokenizer=RingNormalize, stop_words='english')\n",
    "    tfidf = TfidfVec.fit_transform(sent_precious)\n",
    "    vals = cosine_similarity(tfidf[-1], tfidf)\n",
    "    idx=vals.argsort()[0][-2]\n",
    "    flat = vals.flatten()\n",
    "    flat.sort()\n",
    "    req_tfidf = flat[-2]\n",
    "    # If we are not able to identify what the user is asking for, we tell the user that we are not able to fulfill her request\n",
    "    if(req_tfidf==0):\n",
    "        gollum_output=gollum_output+\"YOU SHALL NOT PASS. Sméagol wants you to rephrase\"\n",
    "        return gollum_output\n",
    "    # If we are able to identify what the user is asking for, we return the appropriate part\n",
    "    else:\n",
    "        gollum_output = gollum_output+sent_precious[idx]\n",
    "        return gollum_output"
   ]
  },
  {
   "cell_type": "code",
   "execution_count": null,
   "metadata": {
    "scrolled": false
   },
   "outputs": [],
   "source": [
    "# We are now ready to create the discussion flow between the user and our chatbot\n",
    "\n",
    "# We define a value that will enable to stop, or not, the while loop that we want to use: indeed, as long as the user doesn't stop the conversation we want to continue \n",
    "flag=True\n",
    "\n",
    "# Below is the welcoming message to give some brief instructions to the user\n",
    "print(\"GOLLUM: Sméagol is here to serve the Master. Ask Sméagol about the precious: introduction, prologue, the fellowship, thetwotowers, thereturnoftheking, influences, legacy. Sméagol can develop further if you say more[categoryname]. I can also develop on each protagonist, just say 'allprotagonists' to have the list and then type first name. Finally, Sméagol knows 10 fun facts, just say funfact[number]. BE CAREFUL: Say 'precious' to stop talking to Sméagol.\")\n",
    "\n",
    "while(flag==True):\n",
    "    master_input = input()\n",
    "    master_input=master_input.lower()\n",
    "    # In the following structure we try to identify different possibilites that are numbered\n",
    "    # Possibility 1: is the user asking to stop the conversation by saying the stop word exposed in the welcoming message ?\n",
    "    if(master_input!='precious'):\n",
    "        # Possibility 2: is the user thanking the bot, meaning she doesn't want more information ?\n",
    "        if(master_input=='thanks' or master_input=='thank you' ):\n",
    "            flag=False\n",
    "            print(\"GOLLUM: Let the precious be with you\")\n",
    "        else:\n",
    "            # Possibility 3: is the user simply greeting the bot before beginning the conversation ?\n",
    "            if(gollumanswer(master_input)!=None):\n",
    "                print(\"GOLLUM: \"+gollumanswer(master_input))\n",
    "            else:\n",
    "                # Possibility 4: is the user asking a question, i.e. ending her input with a '?' ?\n",
    "                if (last(master_input)=='?'):\n",
    "                    print(\"GOLLUM: \"+random.choice(gollumpanic))\n",
    "                # If the previous possibilites don't occur, it means we can run the algorithm previously elaborated for our chatbot\n",
    "                else:\n",
    "                    print(\"GOLLUM: \",end=\"\")\n",
    "                    print(questofthering(master_input))\n",
    "                    sent_precious.remove(master_input)\n",
    "    # If the user uses the stop word 'precious', it ends the conversation and our chatbot say goodbye\n",
    "    else:\n",
    "        flag=False\n",
    "        print(\"GOLLUM: GIVE IT TO US !\")"
   ]
  }
 ],
 "metadata": {
  "kernelspec": {
   "display_name": "Python 3",
   "language": "python",
   "name": "python3"
  },
  "language_info": {
   "codemirror_mode": {
    "name": "ipython",
    "version": 3
   },
   "file_extension": ".py",
   "mimetype": "text/x-python",
   "name": "python",
   "nbconvert_exporter": "python",
   "pygments_lexer": "ipython3",
   "version": "3.7.0"
  }
 },
 "nbformat": 4,
 "nbformat_minor": 2
}
